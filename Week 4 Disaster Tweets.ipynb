{
 "cells": [
  {
   "cell_type": "markdown",
   "id": "e153ee30",
   "metadata": {},
   "source": [
    "# Week 4: NLP Disaster Tweets Kaggle Mini-Project\n",
    "\n",
    "This Kaggle competition is about classifying texts. It is an excellent introduction to Natural Language Processing (NLP).\n",
    "\n"
   ]
  },
  {
   "cell_type": "code",
   "execution_count": 44,
   "id": "9b70d629",
   "metadata": {},
   "outputs": [
    {
     "name": "stderr",
     "output_type": "stream",
     "text": [
      "[nltk_data] Downloading package stopwords to\n",
      "[nltk_data]     /home/missmoah/nltk_data...\n",
      "[nltk_data]   Package stopwords is already up-to-date!\n",
      "[nltk_data] Downloading package wordnet to /home/missmoah/nltk_data...\n",
      "[nltk_data]   Package wordnet is already up-to-date!\n",
      "[nltk_data] Downloading package omw-1.4 to /home/missmoah/nltk_data...\n",
      "[nltk_data]   Package omw-1.4 is already up-to-date!\n"
     ]
    }
   ],
   "source": [
    "import numpy as np\n",
    "import pandas as pd\n",
    "import os\n",
    "import re\n",
    "import matplotlib.pyplot as plt\n",
    "import math\n",
    "from random import sample\n",
    "\n",
    "import tensorflow as tf\n",
    "from sklearn.feature_extraction.text import TfidfVectorizer\n",
    "from sklearn.model_selection import train_test_split\n",
    "\n",
    "#!pip install nltk\n",
    "import nltk\n",
    "nltk.download('stopwords')\n",
    "nltk.download('wordnet')\n",
    "nltk.download('omw-1.4')\n",
    "from nltk.corpus import stopwords\n",
    "from nltk.stem import WordNetLemmatizer\n",
    "\n",
    "import warnings\n",
    "warnings.filterwarnings(\"ignore\")"
   ]
  },
  {
   "cell_type": "markdown",
   "id": "beb2d6dc",
   "metadata": {},
   "source": [
    "## Step 1\n",
    "**Brief description of the problem and data (5 pts)**\n",
    "\n",
    "Briefly describe the challenge problem and NLP. Describe the size, dimension, structure, etc., of the data\n",
    "\n",
    "In this project, I will use the the Disaster Tweet dataset from Kaggle. The dataset has binary labels (disaster vs. not disaster). I will build an deep NLP model to classify the tweets to either \"disaster\" or \"not disaster\"\n",
    "\n",
    "The tweets have 3 meaningful features: the full text, the location, and keyword. "
   ]
  },
  {
   "cell_type": "code",
   "execution_count": 12,
   "id": "d65f71b0",
   "metadata": {},
   "outputs": [
    {
     "name": "stdout",
     "output_type": "stream",
     "text": [
      "<class 'pandas.core.frame.DataFrame'>\n",
      "RangeIndex: 7613 entries, 0 to 7612\n",
      "Data columns (total 5 columns):\n",
      " #   Column    Non-Null Count  Dtype \n",
      "---  ------    --------------  ----- \n",
      " 0   id        7613 non-null   int64 \n",
      " 1   keyword   7552 non-null   object\n",
      " 2   location  5080 non-null   object\n",
      " 3   text      7613 non-null   object\n",
      " 4   target    7613 non-null   int64 \n",
      "dtypes: int64(2), object(3)\n",
      "memory usage: 297.5+ KB\n",
      "None\n"
     ]
    }
   ],
   "source": [
    "# Some info about the dataset\n",
    "train_df = pd.read_csv(\"./train.csv\")\n",
    "test_df = pd.read_csv(\"./test.csv\")\n",
    "\n",
    "print(train_df.info())"
   ]
  },
  {
   "cell_type": "code",
   "execution_count": 13,
   "id": "4f71b62d",
   "metadata": {},
   "outputs": [
    {
     "name": "stdout",
     "output_type": "stream",
     "text": [
      "<class 'pandas.core.frame.DataFrame'>\n",
      "RangeIndex: 3263 entries, 0 to 3262\n",
      "Data columns (total 4 columns):\n",
      " #   Column    Non-Null Count  Dtype \n",
      "---  ------    --------------  ----- \n",
      " 0   id        3263 non-null   int64 \n",
      " 1   keyword   3237 non-null   object\n",
      " 2   location  2158 non-null   object\n",
      " 3   text      3263 non-null   object\n",
      "dtypes: int64(1), object(3)\n",
      "memory usage: 102.1+ KB\n",
      "None\n"
     ]
    }
   ],
   "source": [
    "print(test_df.info())"
   ]
  },
  {
   "cell_type": "code",
   "execution_count": 14,
   "id": "886df279",
   "metadata": {},
   "outputs": [
    {
     "name": "stdout",
     "output_type": "stream",
     "text": [
      "                 id      target\n",
      "count   7613.000000  7613.00000\n",
      "mean    5441.934848     0.42966\n",
      "std     3137.116090     0.49506\n",
      "min        1.000000     0.00000\n",
      "25%     2734.000000     0.00000\n",
      "50%     5408.000000     0.00000\n",
      "75%     8146.000000     1.00000\n",
      "max    10873.000000     1.00000\n"
     ]
    }
   ],
   "source": [
    "print(train_df.describe())"
   ]
  },
  {
   "cell_type": "code",
   "execution_count": 15,
   "id": "722bcd03",
   "metadata": {},
   "outputs": [
    {
     "name": "stdout",
     "output_type": "stream",
     "text": [
      "   id keyword location                                               text  \\\n",
      "0   1     NaN      NaN  Our Deeds are the Reason of this #earthquake M...   \n",
      "1   4     NaN      NaN             Forest fire near La Ronge Sask. Canada   \n",
      "2   5     NaN      NaN  All residents asked to 'shelter in place' are ...   \n",
      "3   6     NaN      NaN  13,000 people receive #wildfires evacuation or...   \n",
      "4   7     NaN      NaN  Just got sent this photo from Ruby #Alaska as ...   \n",
      "\n",
      "   target  \n",
      "0       1  \n",
      "1       1  \n",
      "2       1  \n",
      "3       1  \n",
      "4       1  \n"
     ]
    }
   ],
   "source": [
    "print(train_df.head())"
   ]
  },
  {
   "cell_type": "markdown",
   "id": "b3c9b629",
   "metadata": {},
   "source": [
    "## Step 2\n",
    "**Exploratory data analysis (EDA) -- Inspect, Visualize and Clean the data (15 pts)**\n",
    "\n",
    "Show a few visualizations like histograms. Describe any data cleaning procedures. Based on your EDA, what is your plan of analysis.\n",
    "\n",
    "There are 7613 data points in training set. I will create some histograms to have better understanding of the dataset. \n",
    "\n",
    "Then, I will transform the data using TFIDF after removing the stopwords."
   ]
  },
  {
   "attachments": {
    "keyword_mentions.png": {
     "image/png": "[encoded data removed]"
    }
   },
   "cell_type": "markdown",
   "id": "2a9455b9",
   "metadata": {},
   "source": [
    "![keyword_mentions.png](attachment:keyword_mentions.png)"
   ]
  },
  {
   "cell_type": "code",
   "execution_count": 16,
   "id": "eefff52b",
   "metadata": {},
   "outputs": [
    {
     "data": {
      "text/html": [
       "<div>\n",
       "<style scoped>\n",
       "    .dataframe tbody tr th:only-of-type {\n",
       "        vertical-align: middle;\n",
       "    }\n",
       "\n",
       "    .dataframe tbody tr th {\n",
       "        vertical-align: top;\n",
       "    }\n",
       "\n",
       "    .dataframe thead th {\n",
       "        text-align: right;\n",
       "    }\n",
       "</style>\n",
       "<table border=\"1\" class=\"dataframe\">\n",
       "  <thead>\n",
       "    <tr style=\"text-align: right;\">\n",
       "      <th></th>\n",
       "      <th>id</th>\n",
       "      <th>text</th>\n",
       "      <th>target</th>\n",
       "    </tr>\n",
       "  </thead>\n",
       "  <tbody>\n",
       "    <tr>\n",
       "      <th>0</th>\n",
       "      <td>1</td>\n",
       "      <td>Our Deeds are the Reason of this #earthquake M...</td>\n",
       "      <td>1</td>\n",
       "    </tr>\n",
       "    <tr>\n",
       "      <th>1</th>\n",
       "      <td>4</td>\n",
       "      <td>Forest fire near La Ronge Sask. Canada</td>\n",
       "      <td>1</td>\n",
       "    </tr>\n",
       "    <tr>\n",
       "      <th>2</th>\n",
       "      <td>5</td>\n",
       "      <td>All residents asked to 'shelter in place' are ...</td>\n",
       "      <td>1</td>\n",
       "    </tr>\n",
       "    <tr>\n",
       "      <th>3</th>\n",
       "      <td>6</td>\n",
       "      <td>13,000 people receive #wildfires evacuation or...</td>\n",
       "      <td>1</td>\n",
       "    </tr>\n",
       "    <tr>\n",
       "      <th>4</th>\n",
       "      <td>7</td>\n",
       "      <td>Just got sent this photo from Ruby #Alaska as ...</td>\n",
       "      <td>1</td>\n",
       "    </tr>\n",
       "  </tbody>\n",
       "</table>\n",
       "</div>"
      ],
      "text/plain": [
       "   id                                               text  target\n",
       "0   1  Our Deeds are the Reason of this #earthquake M...       1\n",
       "1   4             Forest fire near La Ronge Sask. Canada       1\n",
       "2   5  All residents asked to 'shelter in place' are ...       1\n",
       "3   6  13,000 people receive #wildfires evacuation or...       1\n",
       "4   7  Just got sent this photo from Ruby #Alaska as ...       1"
      ]
     },
     "execution_count": 16,
     "metadata": {},
     "output_type": "execute_result"
    }
   ],
   "source": [
    "# Remove keyword and location features from datasets\n",
    "train_df = train_df[[\"id\", \"text\", \"target\"]].sort_values(by=\"id\")\n",
    "test_df = test_df[[\"id\", \"text\"]].sort_values(by=\"id\")\n",
    "\n",
    "train_df.head()"
   ]
  },
  {
   "cell_type": "code",
   "execution_count": 17,
   "id": "e3547455",
   "metadata": {},
   "outputs": [],
   "source": [
    "# Preprocess the text field\n",
    "def text_preprocessing(text:pd.Series) -> pd.Series:\n",
    "    for word in range(len(text)):\n",
    "        words_l = re.sub('[^a-zA-Z]', ' ', text[word])\n",
    "        # Make all words to lowercase and tokenize the text\n",
    "        words_l = (words_l.lower()).split()\n",
    "        \n",
    "        #Remove stopwords\n",
    "        words_l = [w for w in words_l if not w in set(stopwords.words('english'))]\n",
    "        \n",
    "        # Lemmatize the text\n",
    "        lem = WordNetLemmatizer()\n",
    "        words_l = [lem.lemmatize(w) for w in words_l if len(w) > 1]\n",
    "        \n",
    "        words_l = ' '.join(words_l)\n",
    "        text[word] = words_l\n",
    "        \n",
    "    return text\n",
    "\n",
    "train_df[\"text\"] = text_preprocessing(train_df[\"text\"])\n",
    "test_df[\"text\"] = text_preprocessing(test_df[\"text\"])"
   ]
  },
  {
   "cell_type": "code",
   "execution_count": 18,
   "id": "45dd0d5a",
   "metadata": {},
   "outputs": [
    {
     "data": {
      "text/html": [
       "<div>\n",
       "<style scoped>\n",
       "    .dataframe tbody tr th:only-of-type {\n",
       "        vertical-align: middle;\n",
       "    }\n",
       "\n",
       "    .dataframe tbody tr th {\n",
       "        vertical-align: top;\n",
       "    }\n",
       "\n",
       "    .dataframe thead th {\n",
       "        text-align: right;\n",
       "    }\n",
       "</style>\n",
       "<table border=\"1\" class=\"dataframe\">\n",
       "  <thead>\n",
       "    <tr style=\"text-align: right;\">\n",
       "      <th></th>\n",
       "      <th>id</th>\n",
       "      <th>text</th>\n",
       "      <th>target</th>\n",
       "    </tr>\n",
       "  </thead>\n",
       "  <tbody>\n",
       "    <tr>\n",
       "      <th>0</th>\n",
       "      <td>1</td>\n",
       "      <td>deed reason earthquake may allah forgive u</td>\n",
       "      <td>1</td>\n",
       "    </tr>\n",
       "    <tr>\n",
       "      <th>1</th>\n",
       "      <td>4</td>\n",
       "      <td>forest fire near la ronge sask canada</td>\n",
       "      <td>1</td>\n",
       "    </tr>\n",
       "    <tr>\n",
       "      <th>2</th>\n",
       "      <td>5</td>\n",
       "      <td>resident asked shelter place notified officer ...</td>\n",
       "      <td>1</td>\n",
       "    </tr>\n",
       "    <tr>\n",
       "      <th>3</th>\n",
       "      <td>6</td>\n",
       "      <td>people receive wildfire evacuation order calif...</td>\n",
       "      <td>1</td>\n",
       "    </tr>\n",
       "    <tr>\n",
       "      <th>4</th>\n",
       "      <td>7</td>\n",
       "      <td>got sent photo ruby alaska smoke wildfire pour...</td>\n",
       "      <td>1</td>\n",
       "    </tr>\n",
       "  </tbody>\n",
       "</table>\n",
       "</div>"
      ],
      "text/plain": [
       "   id                                               text  target\n",
       "0   1         deed reason earthquake may allah forgive u       1\n",
       "1   4              forest fire near la ronge sask canada       1\n",
       "2   5  resident asked shelter place notified officer ...       1\n",
       "3   6  people receive wildfire evacuation order calif...       1\n",
       "4   7  got sent photo ruby alaska smoke wildfire pour...       1"
      ]
     },
     "execution_count": 18,
     "metadata": {},
     "output_type": "execute_result"
    }
   ],
   "source": [
    "train_df.head()"
   ]
  },
  {
   "cell_type": "markdown",
   "id": "b13c6fa7",
   "metadata": {},
   "source": [
    "## Step 3\n",
    "**Model Architecture (25 pts)**\n",
    "\n",
    "Describe your model architecture and reasoning for why you believe that specific architecture would be suitable for this problem.\n",
    "\n",
    "Since we did not learn NLP-specific techniques such as word embeddings in the lectures, we recommend looking at Kaggle tutorials, discussion boards, and code examples posted for this challenge. you can use any resources needed, but make sure you \"demosntrate\" you understood by including explanations in your own words. Also importantly, please have a reference list at the end of the report.\n",
    "\n",
    "There are many methods to process texts to matrix form (word embedding), including TF-IDF, GloVe, Word2Vec, etc. Pick a strategy and process the raw texts to word embedding. Briefly explain the method(s) and how they work in your own words.\n",
    "\n",
    "Build and train your sequential neural network model (you may use any RNN family neural network, including advanced architectures LSTM, GRU, bidirectional RNN, etc.)?"
   ]
  },
  {
   "cell_type": "markdown",
   "id": "94ed4e5d",
   "metadata": {},
   "source": [
    "I'll process the text using TF-IDF."
   ]
  },
  {
   "cell_type": "code",
   "execution_count": 19,
   "id": "0b805779",
   "metadata": {},
   "outputs": [
    {
     "name": "stdout",
     "output_type": "stream",
     "text": [
      "(6090, 1000) (6090,)\n",
      "(1523, 1000) (1523,)\n",
      "(3263, 1000)\n"
     ]
    }
   ],
   "source": [
    "# Feature extraction with TF-IDF\n",
    "train_text_l = train_df[\"text\"].tolist()\n",
    "tfidf = TfidfVectorizer(max_features=1000)\n",
    "text_tfidf = tfidf.fit(train_text_l)\n",
    "\n",
    "train_text_transformed = text_tfidf.transform(train_df[\"text\"]).todense()\n",
    "\n",
    "X_train, X_val, y_train, y_val = train_test_split(train_text_transformed, train_df[\"target\"], test_size=0.2, random_state=42)\n",
    "\n",
    "X_test = text_tfidf.transform(test_df[\"text\"]).todense()\n",
    "\n",
    "\n",
    "print(X_train.shape, y_train.shape)\n",
    "print(X_val.shape, y_val.shape)\n",
    "print(X_test.shape)"
   ]
  },
  {
   "cell_type": "markdown",
   "id": "78654a58",
   "metadata": {},
   "source": [
    "I'll build a RNN model using tensorflow. "
   ]
  },
  {
   "cell_type": "code",
   "execution_count": 26,
   "id": "5acfcc5f",
   "metadata": {},
   "outputs": [],
   "source": [
    "def ann_model(eta):\n",
    "    n = (1000, )\n",
    "    lr_schedule = tf.keras.optimizers.schedules.ExponentialDecay(initial_learning_rate=eta,\n",
    "                                                                 decay_steps=1000,\n",
    "                                                                 decay_rate=0.9)\n",
    "    \n",
    "    model = tf.keras.Sequential()\n",
    "    model.add(tf.keras.Input(shape=n))\n",
    "    model.add(tf.keras.layers.Dense(128, activation='relu'))\n",
    "    model.add(tf.keras.layers.Dropout(0.25))\n",
    "    model.add(tf.keras.layers.Dense(128, activation='relu'))\n",
    "    model.add(tf.keras.layers.Dropout(0.25))\n",
    "    model.add(tf.keras.layers.Dense(1, activation='sigmoid'))\n",
    "    \n",
    "    model.compile(optimizer=tf.keras.optimizers.Adam(learning_rate=lr_schedule),\n",
    "                  loss=\"binary_crossentropy\",\n",
    "                  metrics=[\"accuracy\"])\n",
    "    return(model)"
   ]
  },
  {
   "cell_type": "code",
   "execution_count": 27,
   "id": "0994dbf0",
   "metadata": {},
   "outputs": [
    {
     "name": "stdout",
     "output_type": "stream",
     "text": [
      "Model: \"sequential_2\"\n",
      "_________________________________________________________________\n",
      " Layer (type)                Output Shape              Param #   \n",
      "=================================================================\n",
      " dense (Dense)               (None, 128)               128128    \n",
      "                                                                 \n",
      " dropout (Dropout)           (None, 128)               0         \n",
      "                                                                 \n",
      " dense_1 (Dense)             (None, 128)               16512     \n",
      "                                                                 \n",
      " dropout_1 (Dropout)         (None, 128)               0         \n",
      "                                                                 \n",
      " dense_2 (Dense)             (None, 1)                 129       \n",
      "                                                                 \n",
      "=================================================================\n",
      "Total params: 144,769\n",
      "Trainable params: 144,769\n",
      "Non-trainable params: 0\n",
      "_________________________________________________________________\n"
     ]
    }
   ],
   "source": [
    "# Print out the model info\n",
    "model = ann_model(0.0001)\n",
    "model.summary()"
   ]
  },
  {
   "cell_type": "code",
   "execution_count": 32,
   "id": "809c47ab",
   "metadata": {},
   "outputs": [],
   "source": [
    "# Hyperparater tuning with grid search\n",
    "def grid_search(eta_l, X_train, y_train, X_val, y_val):\n",
    "    callbacks_l = [tf.keras.callbacks.EarlyStopping(monitor=\"val_loss\", patience=5, mode=\"min\")]\n",
    "    \n",
    "    cur_best = (0, None, None)\n",
    "    \n",
    "    for eta in eta_l:\n",
    "        print(\"Learning rate: \", eta)\n",
    "        cur_model = ann_model(eta)\n",
    "        cur_his = cur_model.fit(X_train, y_train, validation_data=(X_val, y_val),\n",
    "                                epochs=50, callbacks=callbacks_l, verbose=0)\n",
    "        \n",
    "        print(\"Current training accuracy: \", cur_his.history[\"accuracy\"][-1])\n",
    "        print(\"Current validation accuracy: \", cur_his.history[\"val_accuracy\"][-1])\n",
    "        if cur_his.history[\"val_accuracy\"][-1] > cur_best[0]:\n",
    "            cur_best = (cur_his.history[\"val_accuracy\"][-1], cur_his, eta)\n",
    "        print()\n",
    "        \n",
    "    return(cur_best[1:])"
   ]
  },
  {
   "cell_type": "code",
   "execution_count": 33,
   "id": "aa1733f8",
   "metadata": {},
   "outputs": [
    {
     "name": "stdout",
     "output_type": "stream",
     "text": [
      "Learning rate:  1e-05\n",
      "Current training accuracy:  0.6625615954399109\n",
      "Current validation accuracy:  0.6513460278511047\n",
      "\n",
      "Learning rate:  5e-05\n",
      "Current training accuracy:  0.8472906351089478\n",
      "Current validation accuracy:  0.7898883819580078\n",
      "\n",
      "Learning rate:  0.0001\n",
      "Current training accuracy:  0.8600985407829285\n",
      "Current validation accuracy:  0.7879185676574707\n",
      "\n",
      "Learning rate:  0.0005\n",
      "Current training accuracy:  0.9021346569061279\n",
      "Current validation accuracy:  0.7780696153640747\n",
      "\n",
      "Learning rate:  0.001\n",
      "Current training accuracy:  0.9407225251197815\n",
      "Current validation accuracy:  0.780039370059967\n",
      "\n",
      "Learning rate:  0.005\n",
      "Current training accuracy:  0.9349753856658936\n",
      "Current validation accuracy:  0.7793828248977661\n",
      "\n",
      "Learning rate:  0.01\n",
      "Current training accuracy:  0.9293924570083618\n",
      "Current validation accuracy:  0.7721602320671082\n",
      "\n"
     ]
    }
   ],
   "source": [
    "eta_l = [1e-5, 5e-5, 1e-4, 5e-4, 1e-3, 5e-3, 1e-2]\n",
    "(best_his, best_eta) = grid_search(eta_l, X_train, y_train, X_val, y_val)"
   ]
  },
  {
   "cell_type": "code",
   "execution_count": 40,
   "id": "e5dd50b9",
   "metadata": {},
   "outputs": [
    {
     "data": {
      "image/png": "[encoded data removed]",
      "text/plain": [
       "<Figure size 432x288 with 1 Axes>"
      ]
     },
     "metadata": {
      "needs_background": "light"
     },
     "output_type": "display_data"
    }
   ],
   "source": [
    "# Accuracy figure\n",
    "epochs_l = [i for i in range(len(best_his.history[\"accuracy\"]))]\n",
    "\n",
    "line_1, = plt.plot(epochs_l, best_his.history[\"accuracy\"], zorder=0, label = \"Training accuracy\")\n",
    "line_2, = plt.plot(epochs_l, best_his.history[\"val_accuracy\"], zorder=1, label=\"Validation accuracy\")\n",
    "\n",
    "plt.legend(handles=[line_1, line_2])\n",
    "plt.xlabel(\"Epoch\")\n",
    "plt.ylabel(\"Accuracy\")\n",
    "plt.title(\"Accuracies over Epochs\")\n",
    "plt.show()"
   ]
  },
  {
   "cell_type": "code",
   "execution_count": 41,
   "id": "ee09108a",
   "metadata": {},
   "outputs": [
    {
     "data": {
      "image/png": "[encoded data removed]",
      "text/plain": [
       "<Figure size 432x288 with 1 Axes>"
      ]
     },
     "metadata": {
      "needs_background": "light"
     },
     "output_type": "display_data"
    }
   ],
   "source": [
    "# Loss figure\n",
    "epochs_l = [i for i in range(len(best_his.history[\"loss\"]))]\n",
    "\n",
    "line_1, = plt.plot(epochs_l, best_his.history[\"loss\"], zorder=0, label = \"Training losss\")\n",
    "line_2, = plt.plot(epochs_l, best_his.history[\"val_loss\"], zorder=1, label=\"Validation loss\")\n",
    "\n",
    "plt.legend(handles=[line_1, line_2])\n",
    "plt.xlabel(\"Epoch\")\n",
    "plt.ylabel(\"Loss\")\n",
    "plt.title(\"Loss over Epochs\")\n",
    "plt.show()"
   ]
  },
  {
   "cell_type": "code",
   "execution_count": 43,
   "id": "10c1f7a1",
   "metadata": {},
   "outputs": [
    {
     "name": "stdout",
     "output_type": "stream",
     "text": [
      "102/102 [==============================] - 0s 679us/step\n"
     ]
    }
   ],
   "source": [
    "# Test set\n",
    "y_hat = best_his.model.predict(X_test)\n",
    "y_hat = y_hat.reshape(y_hat.shape[0])\n",
    "y_hat = list(y_hat)\n",
    "predictions_l = [round(y_hat[i]) for i in range(len(y_hat))]\n",
    "\n",
    "test_df[\"target\"] = predictions_l\n",
    "test_df.to_csv(\"./test_set_with_predictions_ann.csv\")"
   ]
  },
  {
   "cell_type": "markdown",
   "id": "e5c01afb",
   "metadata": {},
   "source": [
    "## Step 4\n",
    "**Results and Anlaysis (35 pts)**\n",
    "\n",
    "Run hyperparameter tuning, try different architectures for comparison, apply techniques to improve training or performance, and discuss what helped.\n",
    "\n",
    "Includes results with tables and figures. There is an analysis of why or why not something worked well, troubleshooting, and a hyperparameter optimization procedure summary."
   ]
  },
  {
   "cell_type": "code",
   "execution_count": 63,
   "id": "8c9e85b9",
   "metadata": {},
   "outputs": [
    {
     "name": "stderr",
     "output_type": "stream",
     "text": [
      "2023-06-06 13:14:44.150642: I tensorflow/core/common_runtime/executor.cc:1197] [/device:CPU:0] (DEBUG INFO) Executor start aborting (this does not indicate an error and you can ignore this message): INVALID_ARGUMENT: You must feed a value for placeholder tensor 'Placeholder/_1' with dtype int32 and shape [7003]\n",
      "\t [[{{node Placeholder/_1}}]]\n",
      "2023-06-06 13:14:44.150806: I tensorflow/core/common_runtime/executor.cc:1197] [/device:CPU:0] (DEBUG INFO) Executor start aborting (this does not indicate an error and you can ignore this message): INVALID_ARGUMENT: You must feed a value for placeholder tensor 'Placeholder/_1' with dtype int32 and shape [7003]\n",
      "\t [[{{node Placeholder/_1}}]]\n"
     ]
    }
   ],
   "source": [
    "# Build RNN model for comparison, Hyperparameter optimization with RNN\n",
    "val_size = 0.08\n",
    "num_train = math.floor((1 - val_size) * train_df.shape[0])\n",
    "train_index = sample([i for i in range(train_df.shape[0])], num_train)\n",
    "val_index = [i for i in range(train_df.shape[0]) if not i in train_index]\n",
    "\n",
    "training_df = train_df.iloc[train_index]\n",
    "val_df = train_df.iloc[val_index]\n",
    "\n",
    "train_dataset = (tf.data.Dataset.from_tensor_slices((tf.cast(training_df[\"text\"].values, tf.string),\n",
    "                                                   tf.cast(training_df[\"target\"].values, tf.int32))))\n",
    "\n",
    "val_dataset = (tf.data.Dataset.from_tensor_slices((tf.cast(val_df[\"text\"].values, tf.string),\n",
    "                                                   tf.cast(val_df[\"target\"].values, tf.int32))))\n",
    "\n",
    "test_dataset = (tf.data.Dataset.from_tensor_slices((tf.cast(test_df[\"text\"].values, tf.string))))\n",
    "\n",
    "BUFFER_SIZE = 10000\n",
    "BATCH_SIZE = 10\n",
    "\n",
    "# Shuffle the datasets\n",
    "train_dataset = train_dataset.shuffle(BUFFER_SIZE).batch(BATCH_SIZE)\n",
    "val_dataset = val_dataset.batch(BATCH_SIZE)\n",
    "test_dataset = test_dataset.batch(BATCH_SIZE)\n",
    "\n",
    "encoder = tf.keras.layers.TextVectorization(max_tokens=1000)\n",
    "encoder.adapt(train_dataset.map(lambda text, label: text))\n",
    "\n",
    "def rnn_model(eta):\n",
    "    model = tf.keras.Sequential([encoder, \n",
    "                                 tf.keras.layers.Embedding(input_dim=len(encoder.get_vocabulary()),\n",
    "                                                           output_dim=128, mask_zero=True),\n",
    "                                 tf.keras.layers.Bidirectional(tf.keras.layers.LSTM(128)),\n",
    "                                 tf.keras.layers.Dense(64, activation='relu'),\n",
    "                                 tf.keras.layers.Dropout(0.5),\n",
    "                                 tf.keras.layers.Dense(16, activation='relu'),\n",
    "                                 tf.keras.layers.Dense(1, activation=\"sigmoid\")])\n",
    "    \n",
    "    lr_schedule = tf.keras.optimizers.schedules.ExponentialDecay(initial_learning_rate=eta,\n",
    "                                                                 decay_steps=1000, decay_rate=0.9)\n",
    "    \n",
    "    model.compile(optimizer=tf.keras.optimizers.Adam(learning_rate=lr_schedule),\n",
    "                  loss=\"binary_crossentropy\", metrics=[\"accuracy\"])\n",
    "    \n",
    "    return(model)\n",
    "\n",
    "def grid_search_rnn(eta_l, train_dataset):\n",
    "    callbacks_l = [tf.keras.callbacks.EarlyStopping(monitor=\"val_loss\", patience=5, mode=\"min\")]\n",
    "    \n",
    "    cur_best= (0, None, None)\n",
    "    for eta in eta_l:\n",
    "        print(\"Learning rate: \", eta)\n",
    "        cur_model = rnn_model(eta)\n",
    "        cur_his = cur_model.fit(train_dataset, validation_data=val_dataset, epochs=50, \n",
    "                                callbacks=callbacks_l, verbose=0)\n",
    "        \n",
    "        print(\"Training accuracy: \", cur_his.history[\"accuracy\"][-1])\n",
    "        print(\"Validation accuracy: \", cur_his.history[\"val_accuracy\"][-1])\n",
    "        print()\n",
    "        \n",
    "        if cur_his.history[\"val_accuracy\"][-1] > cur_best[0]:\n",
    "            cur_best = (cur_his.history[\"val_accuracy\"][-1], cur_his, eta)\n",
    "        \n",
    "    return(cur_best[1:])"
   ]
  },
  {
   "cell_type": "code",
   "execution_count": 64,
   "id": "df0f4eca",
   "metadata": {},
   "outputs": [
    {
     "name": "stdout",
     "output_type": "stream",
     "text": [
      "Learning rate:  1e-05\n"
     ]
    },
    {
     "name": "stderr",
     "output_type": "stream",
     "text": [
      "2023-06-06 13:14:46.995801: I tensorflow/core/common_runtime/executor.cc:1197] [/device:CPU:0] (DEBUG INFO) Executor start aborting (this does not indicate an error and you can ignore this message): INVALID_ARGUMENT: You must feed a value for placeholder tensor 'Placeholder/_1' with dtype int32 and shape [7003]\n",
      "\t [[{{node Placeholder/_1}}]]\n",
      "2023-06-06 13:14:46.996028: I tensorflow/core/common_runtime/executor.cc:1197] [/device:CPU:0] (DEBUG INFO) Executor start aborting (this does not indicate an error and you can ignore this message): INVALID_ARGUMENT: You must feed a value for placeholder tensor 'Placeholder/_1' with dtype int32 and shape [7003]\n",
      "\t [[{{node Placeholder/_1}}]]\n",
      "2023-06-06 13:14:48.333827: I tensorflow/core/common_runtime/executor.cc:1197] [/device:CPU:0] (DEBUG INFO) Executor start aborting (this does not indicate an error and you can ignore this message): INVALID_ARGUMENT: You must feed a value for placeholder tensor 'gradients/ReverseV2_grad/ReverseV2/ReverseV2/axis' with dtype int32 and shape [1]\n",
      "\t [[{{node gradients/ReverseV2_grad/ReverseV2/ReverseV2/axis}}]]\n",
      "2023-06-06 13:14:50.109041: I tensorflow/core/common_runtime/executor.cc:1197] [/device:CPU:0] (DEBUG INFO) Executor start aborting (this does not indicate an error and you can ignore this message): INVALID_ARGUMENT: You must feed a value for placeholder tensor 'gradients/ReverseV2_grad/ReverseV2/ReverseV2/axis' with dtype int32 and shape [1]\n",
      "\t [[{{node gradients/ReverseV2_grad/ReverseV2/ReverseV2/axis}}]]\n",
      "2023-06-06 13:14:57.063617: I tensorflow/core/common_runtime/executor.cc:1197] [/device:CPU:0] (DEBUG INFO) Executor start aborting (this does not indicate an error and you can ignore this message): INVALID_ARGUMENT: You must feed a value for placeholder tensor 'Placeholder/_1' with dtype int32 and shape [610]\n",
      "\t [[{{node Placeholder/_1}}]]\n"
     ]
    },
    {
     "name": "stdout",
     "output_type": "stream",
     "text": [
      "Training accuracy:  0.7983721494674683\n",
      "Validation accuracy:  0.7639344334602356\n",
      "\n",
      "Learning rate:  5e-05\n"
     ]
    },
    {
     "name": "stderr",
     "output_type": "stream",
     "text": [
      "2023-06-06 13:20:05.937530: I tensorflow/core/common_runtime/executor.cc:1197] [/device:CPU:0] (DEBUG INFO) Executor start aborting (this does not indicate an error and you can ignore this message): INVALID_ARGUMENT: You must feed a value for placeholder tensor 'gradients/ReverseV2_grad/ReverseV2/ReverseV2/axis' with dtype int32 and shape [1]\n",
      "\t [[{{node gradients/ReverseV2_grad/ReverseV2/ReverseV2/axis}}]]\n",
      "2023-06-06 13:20:07.506998: I tensorflow/core/common_runtime/executor.cc:1197] [/device:CPU:0] (DEBUG INFO) Executor start aborting (this does not indicate an error and you can ignore this message): INVALID_ARGUMENT: You must feed a value for placeholder tensor 'gradients/ReverseV2_grad/ReverseV2/ReverseV2/axis' with dtype int32 and shape [1]\n",
      "\t [[{{node gradients/ReverseV2_grad/ReverseV2/ReverseV2/axis}}]]\n"
     ]
    },
    {
     "name": "stdout",
     "output_type": "stream",
     "text": [
      "Training accuracy:  0.8524917960166931\n",
      "Validation accuracy:  0.7918033003807068\n",
      "\n",
      "Learning rate:  0.0001\n"
     ]
    },
    {
     "name": "stderr",
     "output_type": "stream",
     "text": [
      "2023-06-06 13:21:14.700266: I tensorflow/core/common_runtime/executor.cc:1197] [/device:CPU:0] (DEBUG INFO) Executor start aborting (this does not indicate an error and you can ignore this message): INVALID_ARGUMENT: You must feed a value for placeholder tensor 'gradients/ReverseV2_grad/ReverseV2/ReverseV2/axis' with dtype int32 and shape [1]\n",
      "\t [[{{node gradients/ReverseV2_grad/ReverseV2/ReverseV2/axis}}]]\n",
      "2023-06-06 13:21:16.250876: I tensorflow/core/common_runtime/executor.cc:1197] [/device:CPU:0] (DEBUG INFO) Executor start aborting (this does not indicate an error and you can ignore this message): INVALID_ARGUMENT: You must feed a value for placeholder tensor 'gradients/ReverseV2_grad/ReverseV2/ReverseV2/axis' with dtype int32 and shape [1]\n",
      "\t [[{{node gradients/ReverseV2_grad/ReverseV2/ReverseV2/axis}}]]\n"
     ]
    },
    {
     "name": "stdout",
     "output_type": "stream",
     "text": [
      "Training accuracy:  0.8694844841957092\n",
      "Validation accuracy:  0.7754098176956177\n",
      "\n",
      "Learning rate:  0.0005\n"
     ]
    },
    {
     "name": "stderr",
     "output_type": "stream",
     "text": [
      "2023-06-06 13:22:23.634122: I tensorflow/core/common_runtime/executor.cc:1197] [/device:CPU:0] (DEBUG INFO) Executor start aborting (this does not indicate an error and you can ignore this message): INVALID_ARGUMENT: You must feed a value for placeholder tensor 'gradients/ReverseV2_grad/ReverseV2/ReverseV2/axis' with dtype int32 and shape [1]\n",
      "\t [[{{node gradients/ReverseV2_grad/ReverseV2/ReverseV2/axis}}]]\n",
      "2023-06-06 13:22:25.528817: I tensorflow/core/common_runtime/executor.cc:1197] [/device:CPU:0] (DEBUG INFO) Executor start aborting (this does not indicate an error and you can ignore this message): INVALID_ARGUMENT: You must feed a value for placeholder tensor 'gradients/ReverseV2_grad/ReverseV2/ReverseV2/axis' with dtype int32 and shape [1]\n",
      "\t [[{{node gradients/ReverseV2_grad/ReverseV2/ReverseV2/axis}}]]\n"
     ]
    },
    {
     "name": "stdout",
     "output_type": "stream",
     "text": [
      "Training accuracy:  0.8920462727546692\n",
      "Validation accuracy:  0.7672131061553955\n",
      "\n",
      "Learning rate:  0.001\n"
     ]
    },
    {
     "name": "stderr",
     "output_type": "stream",
     "text": [
      "2023-06-06 13:23:07.895104: I tensorflow/core/common_runtime/executor.cc:1197] [/device:CPU:0] (DEBUG INFO) Executor start aborting (this does not indicate an error and you can ignore this message): INVALID_ARGUMENT: You must feed a value for placeholder tensor 'gradients/ReverseV2_grad/ReverseV2/ReverseV2/axis' with dtype int32 and shape [1]\n",
      "\t [[{{node gradients/ReverseV2_grad/ReverseV2/ReverseV2/axis}}]]\n",
      "2023-06-06 13:23:09.518456: I tensorflow/core/common_runtime/executor.cc:1197] [/device:CPU:0] (DEBUG INFO) Executor start aborting (this does not indicate an error and you can ignore this message): INVALID_ARGUMENT: You must feed a value for placeholder tensor 'gradients/ReverseV2_grad/ReverseV2/ReverseV2/axis' with dtype int32 and shape [1]\n",
      "\t [[{{node gradients/ReverseV2_grad/ReverseV2/ReverseV2/axis}}]]\n"
     ]
    },
    {
     "name": "stdout",
     "output_type": "stream",
     "text": [
      "Training accuracy:  0.9218906164169312\n",
      "Validation accuracy:  0.7672131061553955\n",
      "\n"
     ]
    }
   ],
   "source": [
    "eta_l = [1e-5, 5e-5, 1e-4, 5e-4, 1e-3]\n",
    "(best_his, best_eta) = grid_search_rnn(eta_l, train_dataset)"
   ]
  },
  {
   "cell_type": "code",
   "execution_count": 65,
   "id": "a230cf63",
   "metadata": {},
   "outputs": [
    {
     "name": "stdout",
     "output_type": "stream",
     "text": [
      "Model: \"sequential_25\"\n",
      "_________________________________________________________________\n",
      " Layer (type)                Output Shape              Param #   \n",
      "=================================================================\n",
      " text_vectorization_6 (TextV  (None, None)             0         \n",
      " ectorization)                                                   \n",
      "                                                                 \n",
      " embedding_6 (Embedding)     (None, None, 128)         128000    \n",
      "                                                                 \n",
      " bidirectional_6 (Bidirectio  (None, 256)              263168    \n",
      " nal)                                                            \n",
      "                                                                 \n",
      " dense_69 (Dense)            (None, 64)                16448     \n",
      "                                                                 \n",
      " dropout_40 (Dropout)        (None, 64)                0         \n",
      "                                                                 \n",
      " dense_70 (Dense)            (None, 16)                1040      \n",
      "                                                                 \n",
      " dense_71 (Dense)            (None, 1)                 17        \n",
      "                                                                 \n",
      "=================================================================\n",
      "Total params: 408,673\n",
      "Trainable params: 408,673\n",
      "Non-trainable params: 0\n",
      "_________________________________________________________________\n"
     ]
    }
   ],
   "source": [
    "best_his.model.summary()"
   ]
  },
  {
   "cell_type": "code",
   "execution_count": 66,
   "id": "40b87bb6",
   "metadata": {},
   "outputs": [
    {
     "data": {
      "image/png": "[encoded data removed]",
      "text/plain": [
       "<Figure size 432x288 with 1 Axes>"
      ]
     },
     "metadata": {
      "needs_background": "light"
     },
     "output_type": "display_data"
    }
   ],
   "source": [
    "# Accuracy figure\n",
    "epochs_l = [i for i in range(len(best_his.history[\"accuracy\"]))]\n",
    "\n",
    "line_1, = plt.plot(epochs_l, best_his.history[\"accuracy\"], zorder=0, label = \"Training accuracy\")\n",
    "line_2, = plt.plot(epochs_l, best_his.history[\"val_accuracy\"], zorder=1, label=\"Validation accuracy\")\n",
    "\n",
    "plt.legend(handles=[line_1, line_2])\n",
    "plt.xlabel(\"Epoch\")\n",
    "plt.ylabel(\"Accuracy\")\n",
    "plt.title(\"Accuracies over Epochs\")\n",
    "plt.show()"
   ]
  },
  {
   "cell_type": "code",
   "execution_count": 67,
   "id": "4d347f7b",
   "metadata": {},
   "outputs": [
    {
     "data": {
      "image/png": "[encoded data removed]",
      "text/plain": [
       "<Figure size 432x288 with 1 Axes>"
      ]
     },
     "metadata": {
      "needs_background": "light"
     },
     "output_type": "display_data"
    }
   ],
   "source": [
    "# Loss figure\n",
    "epochs_l = [i for i in range(len(best_his.history[\"loss\"]))]\n",
    "\n",
    "line_1, = plt.plot(epochs_l, best_his.history[\"loss\"], zorder=0, label = \"Training losss\")\n",
    "line_2, = plt.plot(epochs_l, best_his.history[\"val_loss\"], zorder=1, label=\"Validation loss\")\n",
    "\n",
    "plt.legend(handles=[line_1, line_2])\n",
    "plt.xlabel(\"Epoch\")\n",
    "plt.ylabel(\"Loss\")\n",
    "plt.title(\"Loss over Epochs\")\n",
    "plt.show()"
   ]
  },
  {
   "cell_type": "code",
   "execution_count": 68,
   "id": "58a348d5",
   "metadata": {},
   "outputs": [
    {
     "name": "stdout",
     "output_type": "stream",
     "text": [
      "5e-05\n"
     ]
    }
   ],
   "source": [
    "print(best_eta)"
   ]
  },
  {
   "cell_type": "code",
   "execution_count": 69,
   "id": "cbc4357e",
   "metadata": {},
   "outputs": [
    {
     "name": "stderr",
     "output_type": "stream",
     "text": [
      "2023-06-06 13:28:04.525074: I tensorflow/core/common_runtime/executor.cc:1197] [/device:CPU:0] (DEBUG INFO) Executor start aborting (this does not indicate an error and you can ignore this message): INVALID_ARGUMENT: You must feed a value for placeholder tensor 'Placeholder/_0' with dtype string and shape [3263]\n",
      "\t [[{{node Placeholder/_0}}]]\n"
     ]
    },
    {
     "name": "stdout",
     "output_type": "stream",
     "text": [
      "327/327 [==============================] - 2s 3ms/step\n"
     ]
    }
   ],
   "source": [
    "# Test set\n",
    "y_hat = best_his.model.predict(test_dataset)\n",
    "y_hat = y_hat.reshape(y_hat.shape[0])\n",
    "y_hat = list(y_hat)\n",
    "predictions_l = [round(y_hat[i]) for i in range(len(y_hat))]\n",
    "\n",
    "test_df[\"target\"] = predictions_l\n",
    "test_df.to_csv(\"./test_set_with_predictions_rnn.csv\")"
   ]
  },
  {
   "cell_type": "markdown",
   "id": "32c23d4a",
   "metadata": {},
   "source": [
    "## Step 5\n",
    "**Conclusion (15 pts)**\n",
    "\n",
    "Discuss and interpret results as well as learnings and takeaways. What did and did not help improve the performance of your models? What improvements could you try in the future?"
   ]
  },
  {
   "cell_type": "markdown",
   "id": "099e4db5",
   "metadata": {},
   "source": [
    "I compared two different model architectures: ANN and RMM. RNN performs slightly better than ANN. \n"
   ]
  },
  {
   "cell_type": "markdown",
   "id": "2cd263f7",
   "metadata": {},
   "source": [
    "**References**:\n",
    "1. https://medium.com/when-i-work-data/converting-a-pandas-dataframe-into-a-tensorflow-dataset-752f3783c168\n",
    "\n",
    "2. https://www.tensorflow.org/text/tutorials/text_classification_rnn"
   ]
  },
  {
   "cell_type": "code",
   "execution_count": null,
   "id": "ab34c2ed",
   "metadata": {},
   "outputs": [],
   "source": []
  }
 ],
 "metadata": {
  "kernelspec": {
   "display_name": "Python 3 (ipykernel)",
   "language": "python",
   "name": "python3"
  },
  "language_info": {
   "codemirror_mode": {
    "name": "ipython",
    "version": 3
   },
   "file_extension": ".py",
   "mimetype": "text/x-python",
   "name": "python",
   "nbconvert_exporter": "python",
   "pygments_lexer": "ipython3",
   "version": "3.10.6"
  }
 },
 "nbformat": 4,
 "nbformat_minor": 5
}
