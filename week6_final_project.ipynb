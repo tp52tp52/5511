{
 "cells": [
  {
   "cell_type": "markdown",
   "metadata": {
    "collapsed": true
   },
   "source": [
    "# Week 6: Final Project -- Image Classification\n",
    "\n",
    "In this project, I'll classify images from the [CIFAR-10 dataset](https://www.cs.toronto.edu/~kriz/cifar.html).  The dataset consists of airplanes, dogs, cats, and other objects. I'll preprocess the images, then train a convolutional neural network on all the samples. The images need to be normalized and the labels need to be one-hot encoded.  I'll get to apply what you learned and build a convolutional, max pooling, dropout, and fully connected layers.  At the end, I'll get to see your neural network's predictions on the sample images."
   ]
  },
  {
   "cell_type": "code",
   "execution_count": null,
   "metadata": {},
   "outputs": [],
   "source": [
    "from urllib.request import urlretrieve\n",
    "from os.path import isfile, isdir\n",
    "from tqdm import tqdm\n",
    "import problem_unittests as tests\n",
    "import tarfile\n"
   ]
  },
  {
   "cell_type": "markdown",
   "metadata": {},
   "source": [
    "## Step 1\n",
    "**Gather data, determine the method of data collection and provenance of the data**"
   ]
  },
  {
   "cell_type": "code",
   "execution_count": 20,
   "metadata": {},
   "outputs": [
    {
     "name": "stdout",
     "output_type": "stream",
     "text": [
      "All files found!\n"
     ]
    }
   ],
   "source": [
    "cifar10_dataset_folder_path = 'cifar-10-batches-py'\n",
    "\n",
    "# Use Floyd's cifar-10 dataset if present\n",
    "floyd_cifar10_location = '/input/cifar-10/python.tar.gz'\n",
    "if isfile(floyd_cifar10_location):\n",
    "    tar_gz_path = floyd_cifar10_location\n",
    "else:\n",
    "    tar_gz_path = 'cifar-10-python.tar.gz'\n",
    "\n",
    "class DLProgress(tqdm):\n",
    "    last_block = 0\n",
    "\n",
    "    def hook(self, block_num=1, block_size=1, total_size=None):\n",
    "        self.total = total_size\n",
    "        self.update((block_num - self.last_block) * block_size)\n",
    "        self.last_block = block_num\n",
    "\n",
    "if not isfile(tar_gz_path):\n",
    "    with DLProgress(unit='B', unit_scale=True, miniters=1, desc='CIFAR-10 Dataset') as pbar:\n",
    "        urlretrieve(\n",
    "            'https://www.cs.toronto.edu/~kriz/cifar-10-python.tar.gz',\n",
    "            tar_gz_path,\n",
    "            pbar.hook)\n",
    "\n",
    "if not isdir(cifar10_dataset_folder_path):\n",
    "    with tarfile.open(tar_gz_path) as tar:\n",
    "        tar.extractall()\n",
    "        tar.close()\n",
    "\n",
    "\n",
    "tests.test_folder_path(cifar10_dataset_folder_path)"
   ]
  },
  {
   "cell_type": "markdown",
   "metadata": {},
   "source": [
    "## Step 2\n",
    "**Identify a Deep learning Problem**\n",
    "\n",
    "In this project, I will classify images into 5 different classes: airplanes, dogs, cats, and other objects."
   ]
  },
  {
   "cell_type": "markdown",
   "metadata": {},
   "source": [
    "## Step 3\n",
    "**Exploratory data analysis (EDA) - INspect, Visualize, clean the data**"
   ]
  },
  {
   "cell_type": "markdown",
   "metadata": {},
   "source": [
    "The dataset is broken into batches to prevent my machine from running out of memory.  The CIFAR-10 dataset consists of 5 batches, named `data_batch_1`, `data_batch_2`, etc.. Each batch contains the labels and images that are one of the following:\n",
    "* airplane\n",
    "* automobile\n",
    "* bird\n",
    "* cat\n",
    "* deer\n",
    "* dog\n",
    "* frog\n",
    "* horse\n",
    "* ship\n",
    "* truck"
   ]
  },
  {
   "cell_type": "code",
   "execution_count": 21,
   "metadata": {},
   "outputs": [
    {
     "name": "stdout",
     "output_type": "stream",
     "text": [
      "\n",
      "Stats of batch 1:\n",
      "Samples: 10000\n",
      "Label Counts: {0: 1005, 1: 974, 2: 1032, 3: 1016, 4: 999, 5: 937, 6: 1030, 7: 1001, 8: 1025, 9: 981}\n",
      "First 20 Labels: [6, 9, 9, 4, 1, 1, 2, 7, 8, 3, 4, 7, 7, 2, 9, 9, 9, 3, 2, 6]\n",
      "\n",
      "Example of Image 5:\n",
      "Image - Min Value: 0 Max Value: 252\n",
      "Image - Shape: (32, 32, 3)\n",
      "Label - Label Id: 1 Name: automobile\n"
     ]
    },
    {
     "data": {
      "image/png": "[encoded data removed]",
      "text/plain": [
       "<matplotlib.figure.Figure at 0x11c403160>"
      ]
     },
     "metadata": {
      "image/png": {
       "height": 250,
       "width": 253
      }
     },
     "output_type": "display_data"
    }
   ],
   "source": [
    "%matplotlib inline\n",
    "%config InlineBackend.figure_format = 'retina'\n",
    "\n",
    "import helper\n",
    "import numpy as np\n",
    "\n",
    "# Explore the dataset\n",
    "batch_id = 1\n",
    "sample_id = 5\n",
    "helper.display_stats(cifar10_dataset_folder_path, batch_id, sample_id)"
   ]
  },
  {
   "cell_type": "markdown",
   "metadata": {},
   "source": [
    "### Normalize\n",
    "In the cell below, I'll implement the `normalize` function to take in image data, `x`, and return it as a normalized Numpy array. The values should be in the range of 0 to 1, inclusive.  The return object should be the same shape as `x`."
   ]
  },
  {
   "cell_type": "code",
   "execution_count": null,
   "metadata": {},
   "outputs": [],
   "source": [
    "import tensorflow as tf\n",
    "def normalize(x):\n",
    "    \"\"\"\n",
    "    Normalize a list of sample image data in the range of 0 to 1\n",
    "    : x: List of image data.  The image shape is (32, 32, 3)\n",
    "    : return: Numpy array of normalize data\n",
    "    \"\"\"\n",
    "    # TODO: Implement Function\n",
    "    a = 0.\n",
    "    b = 1.\n",
    "    grayscale_min=0\n",
    "    grayscale_max=255\n",
    "    return a + (((x - grayscale_min)*(b-a)/(grayscale_max-grayscale_min)))\n"
   ]
  },
  {
   "cell_type": "markdown",
   "metadata": {},
   "source": [
    "### One-hot encode\n",
    "I'll implement the `one_hot_encode` function. The input, `x`, are a list of labels.  Implement the function to return the list of labels as One-Hot encoded Numpy array.  The possible values for labels are 0 to 9. The one-hot encoding function returns the same encoding for each value between each call to `one_hot_encode`.  "
   ]
  },
  {
   "cell_type": "code",
   "execution_count": null,
   "metadata": {},
   "outputs": [],
   "source": [
    "def one_hot_encode(x):\n",
    "    \"\"\"\n",
    "    One hot encode a list of sample labels. Return a one-hot encoded vector for each label.\n",
    "    : x: List of sample Labels\n",
    "    : return: Numpy array of one-hot encoded labels\n",
    "    \"\"\"\n",
    "    # TODO: Implement Function\n",
    "    one_hot_labels = np.zeros((len(x),10))\n",
    "    for i in range(len(x)):\n",
    "        label = x[i]\n",
    "        one_hot_labels[i,label] = 1\n",
    "    return one_hot_labels\n"
   ]
  },
  {
   "cell_type": "markdown",
   "metadata": {},
   "source": [
    "## Step 4\n",
    "**Perform Analysis Using deep learning models, present dicussino, and conclusion**"
   ]
  },
  {
   "cell_type": "code",
   "execution_count": null,
   "metadata": {},
   "outputs": [],
   "source": [
    "import tensorflow as tf\n",
    "\n",
    "def neural_net_image_input(image_shape):\n",
    "    \"\"\"\n",
    "    Return a Tensor for a batch of image input\n",
    "    : image_shape: Shape of the images\n",
    "    : return: Tensor for image input.\n",
    "    \"\"\"\n",
    "    input_data = tf.placeholder(tf.float32, (None, 32,32,3), name='x')\n",
    "    return input_data\n",
    "\n",
    "\n",
    "def neural_net_label_input(n_classes):\n",
    "    \"\"\"\n",
    "    Return a Tensor for a batch of label input\n",
    "    : n_classes: Number of classes\n",
    "    : return: Tensor for label input.\n",
    "    \"\"\"\n",
    "    label = tf.placeholder(tf.float32, (None, 10), name='y')\n",
    "    return label\n",
    "\n",
    "\n",
    "def neural_net_keep_prob_input():\n",
    "    \"\"\"\n",
    "    Return a Tensor for keep probability\n",
    "    : return: Tensor for keep probability.\n",
    "    \"\"\"\n",
    "    keep_prop = tf.placeholder(tf.float32,name='keep_prob')\n",
    "    return keep_prop\n"
   ]
  },
  {
   "cell_type": "markdown",
   "metadata": {},
   "source": [
    "### Convolution and Max Pooling Layer\n"
   ]
  },
  {
   "cell_type": "code",
   "execution_count": null,
   "metadata": {},
   "outputs": [],
   "source": [
    "def conv2d_maxpool(x_tensor, conv_num_outputs, conv_ksize, conv_strides, pool_ksize, pool_strides):\n",
    "    \"\"\"\n",
    "    Apply convolution then max pooling to x_tensor\n",
    "    :param x_tensor: TensorFlow Tensor\n",
    "    :param conv_num_outputs: Number of outputs for the convolutional layer\n",
    "    :param conv_ksize: kernal size 2-D Tuple for the convolutional layer\n",
    "    :param conv_strides: Stride 2-D Tuple for convolution\n",
    "    :param pool_ksize: kernal size 2-D Tuple for pool\n",
    "    :param pool_strides: Stride 2-D Tuple for pool\n",
    "    : return: A tensor that represents convolution and max pooling of x_tensor\n",
    "    \"\"\"\n",
    "\n",
    "    height = conv_ksize[0]\n",
    "    width = conv_ksize[1]\n",
    "    depth = x_tensor.shape.as_list()[3]\n",
    "    \n",
    "    # Convolution layer\n",
    "    weights = tf.Variable(tf.truncated_normal((height, width, depth , conv_num_outputs)))\n",
    "   \n",
    "    bias = tf.Variable(tf.zeros(conv_num_outputs))\n",
    "    \n",
    "    padding = 'SAME'\n",
    "    conv_value = conv_strides[0]\n",
    "    conv_strides = [1, conv_value, conv_value, 1]\n",
    "    x_tensor = tf.nn.conv2d(x_tensor, weights, conv_strides, padding) + bias\n",
    "   \n",
    "    # Add a nonlinear activation\n",
    "    x_tensor = tf.nn.relu(x_tensor)\n",
    "    \n",
    "    # Pooling layer\n",
    "    pool_k_value = pool_ksize[0]\n",
    "    pool_ksize=[1, pool_k_value, pool_k_value, 1]\n",
    "    \n",
    "    pool_strides_val = pool_strides[0]\n",
    "    pool_strides = [1, pool_strides_val, pool_strides_val, 1]\n",
    "    x_tensor = tf.nn.max_pool(x_tensor, pool_ksize, pool_strides, padding)\n",
    "    \n",
    "    return x_tensor\n"
   ]
  },
  {
   "cell_type": "markdown",
   "metadata": {},
   "source": [
    "### Flatten Layer\n"
   ]
  },
  {
   "cell_type": "code",
   "execution_count": null,
   "metadata": {},
   "outputs": [],
   "source": [
    "def flatten(x_tensor):\n",
    "    \"\"\"\n",
    "    Flatten x_tensor to (Batch Size, Flattened Image Size)\n",
    "    : x_tensor: A tensor of size (Batch Size, ...), where ... are the image dimensions.\n",
    "    : return: A tensor of size (Batch Size, Flattened Image Size).\n",
    "    \"\"\"\n",
    "    _, height, width, depth = x_tensor.shape.as_list()\n",
    " \n",
    "    x_tensor = tf.reshape(x_tensor,[-1, height*width*depth])\n",
    "    return x_tensor\n"
   ]
  },
  {
   "cell_type": "markdown",
   "metadata": {},
   "source": [
    "### Fully-Connected Layer\n"
   ]
  },
  {
   "cell_type": "code",
   "execution_count": null,
   "metadata": {},
   "outputs": [],
   "source": [
    "def fully_conn(x_tensor, num_outputs):\n",
    "    \"\"\"\n",
    "    Apply a fully connected layer to x_tensor using weight and bias\n",
    "    : x_tensor: A 2-D tensor where the first dimension is batch size.\n",
    "    : num_outputs: The number of output that the new tensor should be.\n",
    "    : return: A 2-D tensor where the second dimension is num_outputs.\n",
    "    \"\"\"\n",
    "    x_tensor = tf.layers.dense(x_tensor, num_outputs)\n",
    "    x_tensor = tf.nn.relu(x_tensor)\n",
    "    return x_tensor\n"
   ]
  },
  {
   "cell_type": "markdown",
   "metadata": {},
   "source": [
    "### Output Layer\n"
   ]
  },
  {
   "cell_type": "code",
   "execution_count": null,
   "metadata": {},
   "outputs": [],
   "source": [
    "def output(x_tensor, num_outputs):\n",
    "    \"\"\"\n",
    "    Apply a output layer to x_tensor using weight and bias\n",
    "    : x_tensor: A 2-D tensor where the first dimension is batch size.\n",
    "    : num_outputs: The number of output that the new tensor should be.\n",
    "    : return: A 2-D tensor where the second dimension is num_outputs.\n",
    "    \"\"\"\n",
    "    x_tensor = tf.layers.dense(x_tensor, num_outputs)\n",
    "    return x_tensor"
   ]
  },
  {
   "cell_type": "markdown",
   "metadata": {},
   "source": [
    "### Create Convolutional Model\n"
   ]
  },
  {
   "cell_type": "code",
   "execution_count": null,
   "metadata": {},
   "outputs": [],
   "source": [
    "def conv_net(x, keep_prob):\n",
    "    \"\"\"\n",
    "    Create a convolutional neural network model\n",
    "    : x: Placeholder tensor that holds image data.\n",
    "    : keep_prob: Placeholder tensor that hold dropout keep probability.\n",
    "    : return: Tensor that represents logits\n",
    "    \"\"\"\n",
    "    \n",
    "    conv1_max1 = conv2d_maxpool(x, 32, [5,5], [1,1],[2,2],[2,2])\n",
    "    conv2_max2 = conv2d_maxpool(x, 64, [3,3], [1,1],[2,2],[2,2])\n",
    "    conv3_max3 = conv2d_maxpool(x, 128, [3,3], [1,1],[2,2],[2,2])\n",
    "    conv3_max3 = tf.nn.dropout(conv3_max3, keep_prob)\n",
    "\n",
    "    flat1 = flatten(conv3_max3)\n",
    "\n",
    "    fc1 = fully_conn(flat1, 128)\n",
    "    fc2 = fully_conn(fc1, 64)\n",
    "    fc3 = fully_conn(fc2, 32)\n",
    "\n",
    "    output1 = output(fc3, 10)\n",
    "\n",
    "    return output1\n",
    "\n",
    "\n",
    "# Remove previous weights, bias, inputs, etc..\n",
    "tf.reset_default_graph()\n",
    "\n",
    "# Inputs\n",
    "x = neural_net_image_input((32, 32, 3))\n",
    "y = neural_net_label_input(10)\n",
    "keep_prob = neural_net_keep_prob_input()\n",
    "\n",
    "# Model\n",
    "logits = conv_net(x, keep_prob)\n",
    "\n",
    "# Name logits Tensor, so that is can be loaded from disk after training\n",
    "logits = tf.identity(logits, name='logits')\n",
    "\n",
    "# Loss and Optimizer\n",
    "cost = tf.reduce_mean(tf.nn.softmax_cross_entropy_with_logits(logits=logits, labels=y))\n",
    "optimizer = tf.train.AdamOptimizer().minimize(cost)\n",
    "\n",
    "# Accuracy\n",
    "correct_pred = tf.equal(tf.argmax(logits, 1), tf.argmax(y, 1))\n",
    "accuracy = tf.reduce_mean(tf.cast(correct_pred, tf.float32), name='accuracy')\n"
   ]
  },
  {
   "cell_type": "markdown",
   "metadata": {},
   "source": [
    "### Train the Neural Network\n"
   ]
  },
  {
   "cell_type": "code",
   "execution_count": null,
   "metadata": {},
   "outputs": [],
   "source": [
    "def train_neural_network(session, optimizer, keep_probability, feature_batch, label_batch):\n",
    "    \"\"\"\n",
    "    Optimize the session on a batch of images and labels\n",
    "    : session: Current TensorFlow session\n",
    "    : optimizer: TensorFlow optimizer function\n",
    "    : keep_probability: keep probability\n",
    "    : feature_batch: Batch of Numpy image data\n",
    "    : label_batch: Batch of Numpy label data\n",
    "    \"\"\"\n",
    "    \n",
    "    op = session.run(optimizer, feed_dict={\n",
    "           x: feature_batch,\n",
    "           y: label_batch,\n",
    "           keep_prob: keep_probability[0]})\n"
   ]
  },
  {
   "cell_type": "markdown",
   "metadata": {},
   "source": [
    "### Show Stats\n"
   ]
  },
  {
   "cell_type": "code",
   "execution_count": 33,
   "metadata": {
    "collapsed": true
   },
   "outputs": [],
   "source": [
    "def print_stats(session, feature_batch, label_batch, cost, accuracy):\n",
    "    \"\"\"\n",
    "    Print information about loss and validation accuracy\n",
    "    : session: Current TensorFlow session\n",
    "    : feature_batch: Batch of Numpy image data\n",
    "    : label_batch: Batch of Numpy label data\n",
    "    : cost: TensorFlow cost function\n",
    "    : accuracy: TensorFlow accuracy function\n",
    "    \"\"\"\n",
    "    \n",
    "    loss = session.run(cost, feed_dict={\n",
    "        x: feature_batch,\n",
    "        y: label_batch,\n",
    "        keep_prob: 1.0\n",
    "    })\n",
    "    acc = session.run(accuracy, feed_dict={\n",
    "        x: valid_features,\n",
    "        y: valid_labels,\n",
    "        keep_prob: 1.0\n",
    "    })\n",
    "    print(\"Loss: \" + str(loss))\n",
    "    print(\"Accuracy: \" + str(acc))"
   ]
  },
  {
   "cell_type": "markdown",
   "metadata": {},
   "source": [
    "### Hyperparameters\n",
    "Tune the following parameters: epochs, batch_size, keep_probability\n"
   ]
  },
  {
   "cell_type": "code",
   "execution_count": 1,
   "metadata": {},
   "outputs": [],
   "source": [
    "epochs = 20\n",
    "batch_size = 128\n",
    "keep_probability = [0.75]"
   ]
  },
  {
   "cell_type": "markdown",
   "metadata": {},
   "source": [
    "### Train on a Single CIFAR-10 Batch\n"
   ]
  },
  {
   "cell_type": "code",
   "execution_count": 35,
   "metadata": {},
   "outputs": [
    {
     "name": "stdout",
     "output_type": "stream",
     "text": [
      "Checking the Training on a Single Batch...\n",
      "0\n",
      "Epoch  1, CIFAR-10 Batch 1:  Loss: 2.39778\n",
      "Accuracy: 0.2718\n",
      "1\n",
      "Epoch  2, CIFAR-10 Batch 1:  Loss: 1.96356\n",
      "Accuracy: 0.3374\n",
      "2\n",
      "Epoch  3, CIFAR-10 Batch 1:  Loss: 1.76649\n",
      "Accuracy: 0.353\n",
      "3\n",
      "Epoch  4, CIFAR-10 Batch 1:  Loss: 1.35473\n",
      "Accuracy: 0.4252\n",
      "4\n",
      "Epoch  5, CIFAR-10 Batch 1:  Loss: 1.25275\n",
      "Accuracy: 0.4136\n",
      "5\n",
      "Epoch  6, CIFAR-10 Batch 1:  Loss: 1.07341\n",
      "Accuracy: 0.4738\n",
      "6\n",
      "Epoch  7, CIFAR-10 Batch 1:  Loss: 0.998626\n",
      "Accuracy: 0.465\n",
      "7\n",
      "Epoch  8, CIFAR-10 Batch 1:  Loss: 0.949104\n",
      "Accuracy: 0.479\n",
      "8\n",
      "Epoch  9, CIFAR-10 Batch 1:  Loss: 0.819232\n",
      "Accuracy: 0.4924\n",
      "9\n",
      "Epoch 10, CIFAR-10 Batch 1:  Loss: 0.798189\n",
      "Accuracy: 0.4766\n",
      "10\n",
      "Epoch 11, CIFAR-10 Batch 1:  Loss: 0.753176\n",
      "Accuracy: 0.4968\n",
      "11\n",
      "Epoch 12, CIFAR-10 Batch 1:  Loss: 0.638023\n",
      "Accuracy: 0.502\n",
      "12\n",
      "Epoch 13, CIFAR-10 Batch 1:  Loss: 0.569772\n",
      "Accuracy: 0.513\n",
      "13\n",
      "Epoch 14, CIFAR-10 Batch 1:  Loss: 0.515891\n",
      "Accuracy: 0.5236\n",
      "14\n",
      "Epoch 15, CIFAR-10 Batch 1:  Loss: 0.491194\n",
      "Accuracy: 0.519\n",
      "15\n",
      "Epoch 16, CIFAR-10 Batch 1:  Loss: 0.477223\n",
      "Accuracy: 0.488\n",
      "16\n",
      "Epoch 17, CIFAR-10 Batch 1:  Loss: 0.450049\n",
      "Accuracy: 0.4964\n",
      "17\n",
      "Epoch 18, CIFAR-10 Batch 1:  Loss: 0.399654\n",
      "Accuracy: 0.5038\n",
      "18\n",
      "Epoch 19, CIFAR-10 Batch 1:  Loss: 0.408311\n",
      "Accuracy: 0.5098\n",
      "19\n",
      "Epoch 20, CIFAR-10 Batch 1:  Loss: 0.268741\n",
      "Accuracy: 0.5428\n"
     ]
    }
   ],
   "source": [
    "\n",
    "print('Checking the Training on a Single Batch...')\n",
    "with tf.Session() as sess:\n",
    "    # Initializing the variables\n",
    "    sess.run(tf.global_variables_initializer())\n",
    "    \n",
    "    # Training cycle\n",
    "    for epoch in range(epochs):\n",
    "        print(epoch)\n",
    "        batch_i = 1\n",
    "        for batch_features, batch_labels in helper.load_preprocess_training_batch(batch_i, batch_size):\n",
    "            train_neural_network(sess, optimizer, keep_probability, batch_features, batch_labels)\n",
    "        \n",
    "        print('Epoch {:>2}, CIFAR-10 Batch {}:  '.format(epoch + 1, batch_i), end='')\n",
    "        print_stats(sess, batch_features, batch_labels, cost, accuracy)"
   ]
  },
  {
   "cell_type": "markdown",
   "metadata": {},
   "source": [
    "### Fully Train the Model\n"
   ]
  },
  {
   "cell_type": "code",
   "execution_count": 37,
   "metadata": {},
   "outputs": [
    {
     "name": "stdout",
     "output_type": "stream",
     "text": [
      "Training...\n",
      "Epoch  1, CIFAR-10 Batch 1:  Loss: 2.03597\n",
      "Accuracy: 0.2368\n",
      "Epoch  1, CIFAR-10 Batch 2:  Loss: 1.88827\n",
      "Accuracy: 0.3182\n",
      "Epoch  1, CIFAR-10 Batch 3:  Loss: 1.54299\n",
      "Accuracy: 0.3888\n",
      "Epoch  1, CIFAR-10 Batch 4:  Loss: 1.36348\n",
      "Accuracy: 0.4612\n",
      "Epoch  1, CIFAR-10 Batch 5:  Loss: 1.36073\n",
      "Accuracy: 0.4796\n",
      "Epoch  2, CIFAR-10 Batch 1:  Loss: 1.63417\n",
      "Accuracy: 0.4154\n",
      "Epoch  2, CIFAR-10 Batch 2:  Loss: 1.26238\n",
      "Accuracy: 0.501\n",
      "Epoch  2, CIFAR-10 Batch 3:  Loss: 0.995432\n",
      "Accuracy: 0.4972\n",
      "Epoch  2, CIFAR-10 Batch 4:  Loss: 1.08205\n",
      "Accuracy: 0.539\n",
      "Epoch  2, CIFAR-10 Batch 5:  Loss: 1.13831\n",
      "Accuracy: 0.5502\n",
      "Epoch  3, CIFAR-10 Batch 1:  Loss: 1.27398\n",
      "Accuracy: 0.512\n",
      "Epoch  3, CIFAR-10 Batch 2:  Loss: 0.890371\n",
      "Accuracy: 0.5488\n",
      "Epoch  3, CIFAR-10 Batch 3:  Loss: 0.802283\n",
      "Accuracy: 0.5276\n",
      "Epoch  3, CIFAR-10 Batch 4:  Loss: 1.02015\n",
      "Accuracy: 0.5616\n",
      "Epoch  3, CIFAR-10 Batch 5:  Loss: 0.995188\n",
      "Accuracy: 0.5764\n",
      "Epoch  4, CIFAR-10 Batch 1:  Loss: 1.09749\n",
      "Accuracy: 0.5834\n",
      "Epoch  4, CIFAR-10 Batch 2:  Loss: 0.839015\n",
      "Accuracy: 0.5626\n",
      "Epoch  4, CIFAR-10 Batch 3:  Loss: 0.685824\n",
      "Accuracy: 0.5714\n",
      "Epoch  4, CIFAR-10 Batch 4:  Loss: 0.861845\n",
      "Accuracy: 0.5866\n",
      "Epoch  4, CIFAR-10 Batch 5:  Loss: 0.803548\n",
      "Accuracy: 0.5968\n",
      "Epoch  5, CIFAR-10 Batch 1:  Loss: 1.03996\n",
      "Accuracy: 0.5868\n",
      "Epoch  5, CIFAR-10 Batch 2:  Loss: 0.671212\n",
      "Accuracy: 0.5962\n",
      "Epoch  5, CIFAR-10 Batch 3:  Loss: 0.626755\n",
      "Accuracy: 0.5972\n",
      "Epoch  5, CIFAR-10 Batch 4:  Loss: 0.745467\n",
      "Accuracy: 0.6064\n",
      "Epoch  5, CIFAR-10 Batch 5:  Loss: 0.730592\n",
      "Accuracy: 0.6096\n",
      "Epoch  6, CIFAR-10 Batch 1:  Loss: 0.915069\n",
      "Accuracy: 0.5992\n",
      "Epoch  6, CIFAR-10 Batch 2:  Loss: 0.575144\n",
      "Accuracy: 0.613\n",
      "Epoch  6, CIFAR-10 Batch 3:  Loss: 0.578911\n",
      "Accuracy: 0.5934\n",
      "Epoch  6, CIFAR-10 Batch 4:  Loss: 0.650509\n",
      "Accuracy: 0.612\n",
      "Epoch  6, CIFAR-10 Batch 5:  Loss: 0.643175\n",
      "Accuracy: 0.6192\n",
      "Epoch  7, CIFAR-10 Batch 1:  Loss: 0.807196\n",
      "Accuracy: 0.603\n",
      "Epoch  7, CIFAR-10 Batch 2:  Loss: 0.521534\n",
      "Accuracy: 0.615\n",
      "Epoch  7, CIFAR-10 Batch 3:  Loss: 0.495945\n",
      "Accuracy: 0.6004\n",
      "Epoch  7, CIFAR-10 Batch 4:  Loss: 0.532186\n",
      "Accuracy: 0.6218\n",
      "Epoch  7, CIFAR-10 Batch 5:  Loss: 0.546455\n",
      "Accuracy: 0.618\n",
      "Epoch  8, CIFAR-10 Batch 1:  Loss: 0.720799\n",
      "Accuracy: 0.6154\n",
      "Epoch  8, CIFAR-10 Batch 2:  Loss: 0.460965\n",
      "Accuracy: 0.6232\n",
      "Epoch  8, CIFAR-10 Batch 3:  Loss: 0.46442\n",
      "Accuracy: 0.6106\n",
      "Epoch  8, CIFAR-10 Batch 4:  Loss: 0.448401\n",
      "Accuracy: 0.6158\n",
      "Epoch  8, CIFAR-10 Batch 5:  Loss: 0.487802\n",
      "Accuracy: 0.6252\n",
      "Epoch  9, CIFAR-10 Batch 1:  Loss: 0.649823\n",
      "Accuracy: 0.6268\n",
      "Epoch  9, CIFAR-10 Batch 2:  Loss: 0.427655\n",
      "Accuracy: 0.624\n",
      "Epoch  9, CIFAR-10 Batch 3:  Loss: 0.369525\n",
      "Accuracy: 0.6074\n",
      "Epoch  9, CIFAR-10 Batch 4:  Loss: 0.412814\n",
      "Accuracy: 0.6206\n",
      "Epoch  9, CIFAR-10 Batch 5:  Loss: 0.429846\n",
      "Accuracy: 0.6318\n",
      "Epoch 10, CIFAR-10 Batch 1:  Loss: 0.569048\n",
      "Accuracy: 0.6304\n",
      "Epoch 10, CIFAR-10 Batch 2:  Loss: 0.357756\n",
      "Accuracy: 0.6278\n",
      "Epoch 10, CIFAR-10 Batch 3:  Loss: 0.330483\n",
      "Accuracy: 0.6164\n",
      "Epoch 10, CIFAR-10 Batch 4:  Loss: 0.351826\n",
      "Accuracy: 0.6188\n",
      "Epoch 10, CIFAR-10 Batch 5:  Loss: 0.409791\n",
      "Accuracy: 0.6408\n",
      "Epoch 11, CIFAR-10 Batch 1:  Loss: 0.469821\n",
      "Accuracy: 0.6296\n",
      "Epoch 11, CIFAR-10 Batch 2:  Loss: 0.361777\n",
      "Accuracy: 0.6178\n",
      "Epoch 11, CIFAR-10 Batch 3:  Loss: 0.29243\n",
      "Accuracy: 0.6112\n",
      "Epoch 11, CIFAR-10 Batch 4:  Loss: 0.302781\n",
      "Accuracy: 0.629\n",
      "Epoch 11, CIFAR-10 Batch 5:  Loss: 0.361507\n",
      "Accuracy: 0.6348\n",
      "Epoch 12, CIFAR-10 Batch 1:  Loss: 0.433748\n",
      "Accuracy: 0.641\n",
      "Epoch 12, CIFAR-10 Batch 2:  Loss: 0.33073\n",
      "Accuracy: 0.619\n",
      "Epoch 12, CIFAR-10 Batch 3:  Loss: 0.253112\n",
      "Accuracy: 0.6368\n",
      "Epoch 12, CIFAR-10 Batch 4:  Loss: 0.280869\n",
      "Accuracy: 0.6328\n",
      "Epoch 12, CIFAR-10 Batch 5:  Loss: 0.374818\n",
      "Accuracy: 0.6232\n",
      "Epoch 13, CIFAR-10 Batch 1:  Loss: 0.357916\n",
      "Accuracy: 0.6386\n",
      "Epoch 13, CIFAR-10 Batch 2:  Loss: 0.279903\n",
      "Accuracy: 0.614\n",
      "Epoch 13, CIFAR-10 Batch 3:  Loss: 0.22928\n",
      "Accuracy: 0.639\n",
      "Epoch 13, CIFAR-10 Batch 4:  Loss: 0.227078\n",
      "Accuracy: 0.6348\n",
      "Epoch 13, CIFAR-10 Batch 5:  Loss: 0.36787\n",
      "Accuracy: 0.6116\n",
      "Epoch 14, CIFAR-10 Batch 1:  Loss: 0.325067\n",
      "Accuracy: 0.6328\n",
      "Epoch 14, CIFAR-10 Batch 2:  Loss: 0.258469\n",
      "Accuracy: 0.6196\n",
      "Epoch 14, CIFAR-10 Batch 3:  Loss: 0.199438\n",
      "Accuracy: 0.6388\n",
      "Epoch 14, CIFAR-10 Batch 4:  Loss: 0.237712\n",
      "Accuracy: 0.6338\n",
      "Epoch 14, CIFAR-10 Batch 5:  Loss: 0.313761\n",
      "Accuracy: 0.6056\n",
      "Epoch 15, CIFAR-10 Batch 1:  Loss: 0.329036\n",
      "Accuracy: 0.6372\n",
      "Epoch 15, CIFAR-10 Batch 2:  Loss: 0.239413\n",
      "Accuracy: 0.627\n",
      "Epoch 15, CIFAR-10 Batch 3:  Loss: 0.189276\n",
      "Accuracy: 0.6326\n",
      "Epoch 15, CIFAR-10 Batch 4:  Loss: 0.194567\n",
      "Accuracy: 0.647\n",
      "Epoch 15, CIFAR-10 Batch 5:  Loss: 0.304317\n",
      "Accuracy: 0.6026\n",
      "Epoch 16, CIFAR-10 Batch 1:  Loss: 0.26114\n",
      "Accuracy: 0.6398\n",
      "Epoch 16, CIFAR-10 Batch 2:  Loss: 0.187804\n",
      "Accuracy: 0.6304\n",
      "Epoch 16, CIFAR-10 Batch 3:  Loss: 0.17638\n",
      "Accuracy: 0.6302\n",
      "Epoch 16, CIFAR-10 Batch 4:  Loss: 0.200549\n",
      "Accuracy: 0.6382\n",
      "Epoch 16, CIFAR-10 Batch 5:  Loss: 0.296593\n",
      "Accuracy: 0.5988\n",
      "Epoch 17, CIFAR-10 Batch 1:  Loss: 0.234914\n",
      "Accuracy: 0.6454\n",
      "Epoch 17, CIFAR-10 Batch 2:  Loss: 0.195233\n",
      "Accuracy: 0.6078\n",
      "Epoch 17, CIFAR-10 Batch 3:  Loss: 0.154368\n",
      "Accuracy: 0.635\n",
      "Epoch 17, CIFAR-10 Batch 4:  Loss: 0.227692\n",
      "Accuracy: 0.6214\n",
      "Epoch 17, CIFAR-10 Batch 5:  Loss: 0.265414\n",
      "Accuracy: 0.5944\n",
      "Epoch 18, CIFAR-10 Batch 1:  Loss: 0.218565\n",
      "Accuracy: 0.6464\n",
      "Epoch 18, CIFAR-10 Batch 2:  Loss: 0.140077\n",
      "Accuracy: 0.6214\n",
      "Epoch 18, CIFAR-10 Batch 3:  Loss: 0.159244\n",
      "Accuracy: 0.6288\n",
      "Epoch 18, CIFAR-10 Batch 4:  Loss: 0.226844\n",
      "Accuracy: 0.6278\n",
      "Epoch 18, CIFAR-10 Batch 5:  Loss: 0.204068\n",
      "Accuracy: 0.6206\n",
      "Epoch 19, CIFAR-10 Batch 1:  Loss: 0.173733\n",
      "Accuracy: 0.6432\n",
      "Epoch 19, CIFAR-10 Batch 2:  Loss: 0.124578\n",
      "Accuracy: 0.6244\n",
      "Epoch 19, CIFAR-10 Batch 3:  Loss: 0.124834\n",
      "Accuracy: 0.6388\n",
      "Epoch 19, CIFAR-10 Batch 4:  Loss: 0.208268\n",
      "Accuracy: 0.6216\n",
      "Epoch 19, CIFAR-10 Batch 5:  Loss: 0.189627\n",
      "Accuracy: 0.6186\n",
      "Epoch 20, CIFAR-10 Batch 1:  Loss: 0.179319\n",
      "Accuracy: 0.647\n",
      "Epoch 20, CIFAR-10 Batch 2:  Loss: 0.119438\n",
      "Accuracy: 0.636\n",
      "Epoch 20, CIFAR-10 Batch 3:  Loss: 0.117566\n",
      "Accuracy: 0.6396\n",
      "Epoch 20, CIFAR-10 Batch 4:  Loss: 0.146322\n",
      "Accuracy: 0.6402\n",
      "Epoch 20, CIFAR-10 Batch 5:  Loss: 0.181252\n",
      "Accuracy: 0.6284\n"
     ]
    }
   ],
   "source": [
    "\n",
    "save_model_path = './image_classification'\n",
    "\n",
    "print('Training...')\n",
    "with tf.Session() as sess:\n",
    "    # Initializing the variables\n",
    "    sess.run(tf.global_variables_initializer())\n",
    "    \n",
    "    # Training cycle\n",
    "    for epoch in range(epochs):\n",
    "        # Loop over all batches\n",
    "        n_batches = 5\n",
    "        for batch_i in range(1, n_batches + 1):\n",
    "            for batch_features, batch_labels in helper.load_preprocess_training_batch(batch_i, batch_size):\n",
    "                train_neural_network(sess, optimizer, keep_probability, batch_features, batch_labels)\n",
    "            print('Epoch {:>2}, CIFAR-10 Batch {}:  '.format(epoch + 1, batch_i), end='')\n",
    "            print_stats(sess, batch_features, batch_labels, cost, accuracy)\n",
    "            \n",
    "    # Save Model\n",
    "    saver = tf.train.Saver()\n",
    "    save_path = saver.save(sess, save_model_path)"
   ]
  },
  {
   "cell_type": "markdown",
   "metadata": {},
   "source": [
    "\n",
    "## Test Model\n",
    "Test the model against the test dataset.  "
   ]
  },
  {
   "cell_type": "code",
   "execution_count": 39,
   "metadata": {},
   "outputs": [
    {
     "name": "stdout",
     "output_type": "stream",
     "text": [
      "INFO:tensorflow:Restoring parameters from ./image_classification\n",
      "Testing Accuracy: 0.6313291139240507\n",
      "\n"
     ]
    },
    {
     "data": {
      "image/png": "[encoded data removed]",
      "text/plain": [
       "<matplotlib.figure.Figure at 0x118ea6d30>"
      ]
     },
     "metadata": {
      "image/png": {
       "height": 319,
       "width": 355
      }
     },
     "output_type": "display_data"
    }
   ],
   "source": [
    "\n",
    "%matplotlib inline\n",
    "%config InlineBackend.figure_format = 'retina'\n",
    "\n",
    "import tensorflow as tf\n",
    "import pickle\n",
    "import helper\n",
    "import random\n",
    "\n",
    "# Set batch size if not already set\n",
    "try:\n",
    "    if batch_size:\n",
    "        pass\n",
    "except NameError:\n",
    "    batch_size = 64\n",
    "\n",
    "save_model_path = './image_classification'\n",
    "n_samples = 4\n",
    "top_n_predictions = 3\n",
    "\n",
    "def test_model():\n",
    "    \"\"\"\n",
    "    Test the saved model against the test dataset\n",
    "    \"\"\"\n",
    "\n",
    "    test_features, test_labels = pickle.load(open('preprocess_test.p', mode='rb'))\n",
    "    loaded_graph = tf.Graph()\n",
    "\n",
    "    with tf.Session(graph=loaded_graph) as sess:\n",
    "        # Load model\n",
    "        loader = tf.train.import_meta_graph(save_model_path + '.meta')\n",
    "        loader.restore(sess, save_model_path)\n",
    "\n",
    "        # Get Tensors from loaded model\n",
    "        loaded_x = loaded_graph.get_tensor_by_name('x:0')\n",
    "        loaded_y = loaded_graph.get_tensor_by_name('y:0')\n",
    "        loaded_keep_prob = loaded_graph.get_tensor_by_name('keep_prob:0')\n",
    "        loaded_logits = loaded_graph.get_tensor_by_name('logits:0')\n",
    "        loaded_acc = loaded_graph.get_tensor_by_name('accuracy:0')\n",
    "        \n",
    "        # Get accuracy in batches for memory limitations\n",
    "        test_batch_acc_total = 0\n",
    "        test_batch_count = 0\n",
    "        \n",
    "        for test_feature_batch, test_label_batch in helper.batch_features_labels(test_features, test_labels, batch_size):\n",
    "            test_batch_acc_total += sess.run(\n",
    "                loaded_acc,\n",
    "                feed_dict={loaded_x: test_feature_batch, loaded_y: test_label_batch, loaded_keep_prob: 1.0})\n",
    "            test_batch_count += 1\n",
    "\n",
    "        print('Testing Accuracy: {}\\n'.format(test_batch_acc_total/test_batch_count))\n",
    "\n",
    "        # Print Random Samples\n",
    "        random_test_features, random_test_labels = tuple(zip(*random.sample(list(zip(test_features, test_labels)), n_samples)))\n",
    "        random_test_predictions = sess.run(\n",
    "            tf.nn.top_k(tf.nn.softmax(loaded_logits), top_n_predictions),\n",
    "            feed_dict={loaded_x: random_test_features, loaded_y: random_test_labels, loaded_keep_prob: 1.0})\n",
    "        helper.display_image_predictions(random_test_features, random_test_labels, random_test_predictions)\n",
    "\n",
    "\n",
    "test_model()"
   ]
  },
  {
   "cell_type": "markdown",
   "metadata": {},
   "source": [
    "## Discussion and Conclusion\n",
    "In this project, I successfully train CNN model to classify images into 5 differnent classes. I got 64.7% on validation set and 63.1% on test set. "
   ]
  },
  {
   "cell_type": "code",
   "execution_count": null,
   "metadata": {},
   "outputs": [],
   "source": []
  }
 ],
 "metadata": {
  "kernelspec": {
   "display_name": "Python 3 (ipykernel)",
   "language": "python",
   "name": "python3"
  },
  "language_info": {
   "codemirror_mode": {
    "name": "ipython",
    "version": 3
   },
   "file_extension": ".py",
   "mimetype": "text/x-python",
   "name": "python",
   "nbconvert_exporter": "python",
   "pygments_lexer": "ipython3",
   "version": "3.10.6"
  }
 },
 "nbformat": 4,
 "nbformat_minor": 1
}
